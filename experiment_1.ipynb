{
  "nbformat": 4,
  "nbformat_minor": 0,
  "metadata": {
    "colab": {
      "provenance": [],
      "authorship_tag": "ABX9TyMRVIjNbUuScO3n/ERg6mQF",
      "include_colab_link": true
    },
    "kernelspec": {
      "name": "python3",
      "display_name": "Python 3"
    },
    "language_info": {
      "name": "python"
    }
  },
  "cells": [
    {
      "cell_type": "markdown",
      "metadata": {
        "id": "view-in-github",
        "colab_type": "text"
      },
      "source": [
        "<a href=\"https://colab.research.google.com/github/Renny2277/code-repo/blob/main/experiment_1.ipynb\" target=\"_parent\"><img src=\"https://colab.research.google.com/assets/colab-badge.svg\" alt=\"Open In Colab\"/></a>"
      ]
    },
    {
      "cell_type": "code",
      "execution_count": null,
      "metadata": {
        "id": "NAWwmsZCtSg3"
      },
      "outputs": [],
      "source": []
    },
    {
      "cell_type": "markdown",
      "source": [
        "##EXPERIMENT1\n",
        "INTRODUCING PYTHON AS A TOOL FOR COMPUTATION MATHEMETICS"
      ],
      "metadata": {
        "id": "8m5e6ji8tcaS"
      }
    },
    {
      "cell_type": "markdown",
      "source": [
        "1.**HELLO WORLD**"
      ],
      "metadata": {
        "id": "wjLL1qFCuwgJ"
      }
    },
    {
      "cell_type": "code",
      "source": [],
      "metadata": {
        "id": "A2iPI5knugzA"
      },
      "execution_count": null,
      "outputs": []
    },
    {
      "cell_type": "markdown",
      "source": [
        "The classic first program for any language"
      ],
      "metadata": {
        "id": "oEtZL0-qu-lJ"
      }
    },
    {
      "cell_type": "code",
      "source": [
        "print(\"HELLO,WORLD\")"
      ],
      "metadata": {
        "colab": {
          "base_uri": "https://localhost:8080/"
        },
        "id": "zDCDcjqVvTnH",
        "outputId": "2e15cf1f-e31c-488b-ba1c-4d79ba6962a0"
      },
      "execution_count": null,
      "outputs": [
        {
          "output_type": "stream",
          "name": "stdout",
          "text": [
            "HELLO,WORLD\n"
          ]
        }
      ]
    },
    {
      "cell_type": "code",
      "source": [],
      "metadata": {
        "id": "7wU3mN_EvtU4"
      },
      "execution_count": null,
      "outputs": []
    },
    {
      "cell_type": "markdown",
      "source": [
        "2.** BASIC ARITHEMETIC OPERATION**"
      ],
      "metadata": {
        "id": "HlnTXkH7v934"
      }
    },
    {
      "cell_type": "markdown",
      "source": [
        "simple operations like addition,substraction,division,multiplication"
      ],
      "metadata": {
        "id": "HucuAKrBwNRQ"
      }
    },
    {
      "cell_type": "code",
      "source": [
        "# addition\n",
        "a=5;b=2\n",
        "print(\"addition:\",a+b)\n",
        "# substraction\n",
        "print(\"substraction\",a-b)\n",
        "# multiplication\n",
        "print(\"multiplication\",a*b)\n",
        "# division\n",
        "print(\"division\",a/b)"
      ],
      "metadata": {
        "colab": {
          "base_uri": "https://localhost:8080/"
        },
        "id": "sEueZEtRwMJQ",
        "outputId": "9b3d9372-ac3d-4109-f026-dd470e6863ae"
      },
      "execution_count": null,
      "outputs": [
        {
          "output_type": "stream",
          "name": "stdout",
          "text": [
            "addition: 7\n",
            "substraction 3\n",
            "multiplication 10\n",
            "division 2.5\n"
          ]
        }
      ]
    },
    {
      "cell_type": "code",
      "source": [],
      "metadata": {
        "id": "WUuE5lHtyQJX"
      },
      "execution_count": null,
      "outputs": []
    },
    {
      "cell_type": "markdown",
      "source": [],
      "metadata": {
        "id": "kxBRPLQbzx8O"
      }
    },
    {
      "cell_type": "markdown",
      "source": [
        "3.**variables and data types**"
      ],
      "metadata": {
        "id": "1dOdQey5zUHf"
      }
    },
    {
      "cell_type": "code",
      "source": [],
      "metadata": {
        "id": "FRrcz56wzaue"
      },
      "execution_count": null,
      "outputs": []
    },
    {
      "cell_type": "markdown",
      "source": [
        "introduction to different data types like integers,float, and strings."
      ],
      "metadata": {
        "id": "4Dx7BbOgzztW"
      }
    },
    {
      "cell_type": "markdown",
      "source": [],
      "metadata": {
        "id": "y3qRdPAzzpFe"
      }
    },
    {
      "cell_type": "code",
      "source": [],
      "metadata": {
        "id": "LVAf0mbU2GA2"
      },
      "execution_count": null,
      "outputs": []
    },
    {
      "cell_type": "code",
      "source": [
        "#integer\n",
        "x=10\n",
        "print(\"integer:\",x)\n",
        "# float\n",
        "y=7.77\n",
        "print(\"float:\",y)\n",
        "# string\n",
        "z=\"python\"\n",
        "print(\"string:\",z)\n",
        "type(z)"
      ],
      "metadata": {
        "colab": {
          "base_uri": "https://localhost:8080/"
        },
        "id": "iszQ2CZK0Ree",
        "outputId": "de96ad65-7657-4f5a-fefd-4fc64bcdd3b0"
      },
      "execution_count": null,
      "outputs": [
        {
          "output_type": "stream",
          "name": "stdout",
          "text": [
            "integer: 10\n",
            "float: 7.77\n",
            "string: python\n"
          ]
        },
        {
          "output_type": "execute_result",
          "data": {
            "text/plain": [
              "str"
            ]
          },
          "metadata": {},
          "execution_count": 23
        }
      ]
    },
    {
      "cell_type": "code",
      "source": [],
      "metadata": {
        "id": "sLHD8i_u1XJV"
      },
      "execution_count": null,
      "outputs": []
    },
    {
      "cell_type": "markdown",
      "source": [
        "4.**list**"
      ],
      "metadata": {
        "id": "ubA0Znm42Js2"
      }
    },
    {
      "cell_type": "markdown",
      "source": [
        "creating and manupulating lists"
      ],
      "metadata": {
        "id": "TCMzVfdi2QM-"
      }
    },
    {
      "cell_type": "code",
      "source": [
        "# creating a list\n",
        "fruits = [\"apple\",\"banana\",\"cherry\"]\n",
        "print(\"list:\",fruits)\n",
        "# adding an element\n",
        "fruits.append(\"orange\")\n",
        "print(\"updated list:\",fruits)\n",
        "# removing an element\n",
        "fruits.remove(\"banana\")\n",
        "print(\"list after removal:\",fruits)"
      ],
      "metadata": {
        "colab": {
          "base_uri": "https://localhost:8080/"
        },
        "id": "X3S7aDHp2Oq1",
        "outputId": "2f95604d-dba3-4909-fe74-7b5532340f71"
      },
      "execution_count": null,
      "outputs": [
        {
          "output_type": "stream",
          "name": "stdout",
          "text": [
            "list: ['apple', 'banana', 'cherry']\n",
            "updated list: ['apple', 'banana', 'cherry', 'orange']\n",
            "list after removal: ['apple', 'cherry', 'orange']\n"
          ]
        }
      ]
    },
    {
      "cell_type": "markdown",
      "source": [
        "5.**loops**\n",
        "using for and while loops."
      ],
      "metadata": {
        "id": "ZUrGBsMb4F9P"
      }
    },
    {
      "cell_type": "code",
      "source": [
        "# for loop\n",
        "for i in range(5):\n",
        "   print(\"for loop iteration:\", i)\n",
        "# while loop\n",
        "count = 0\n",
        "while count < 5:\n",
        "  print(\"while loop iteration:\", count)\n",
        "  count+= 1"
      ],
      "metadata": {
        "colab": {
          "base_uri": "https://localhost:8080/"
        },
        "id": "rNzvlWxZ4cXm",
        "outputId": "6677a8fe-0636-45de-b378-671418308f40"
      },
      "execution_count": null,
      "outputs": [
        {
          "output_type": "stream",
          "name": "stdout",
          "text": [
            "for loop iteration: 0\n",
            "for loop iteration: 1\n",
            "for loop iteration: 2\n",
            "for loop iteration: 3\n",
            "for loop iteration: 4\n",
            "while loop iteration: 0\n",
            "while loop iteration: 1\n",
            "while loop iteration: 2\n",
            "while loop iteration: 3\n",
            "while loop iteration: 4\n"
          ]
        }
      ]
    },
    {
      "cell_type": "markdown",
      "source": [
        "6. **conditional statements**\n",
        "using if,elif,and else statements"
      ],
      "metadata": {
        "id": "8l089JhN6rtx"
      }
    },
    {
      "cell_type": "code",
      "source": [
        "number = 7\n",
        "if number > 0:\n",
        "    print(\"positive number\")\n",
        "elif number == 0:\n",
        "     print(\"zero\")\n",
        "else:\n",
        "     print(\"negative number\")\n"
      ],
      "metadata": {
        "colab": {
          "base_uri": "https://localhost:8080/"
        },
        "id": "WrETUv0369gY",
        "outputId": "c518b1fb-ba24-479d-99db-779f85d4355f"
      },
      "execution_count": null,
      "outputs": [
        {
          "output_type": "stream",
          "name": "stdout",
          "text": [
            "positive number\n"
          ]
        }
      ]
    },
    {
      "cell_type": "markdown",
      "source": [
        "7.**fumnction**\n",
        "defining and  calling function\n"
      ],
      "metadata": {
        "id": "1fFfoQWq7tox"
      }
    },
    {
      "cell_type": "code",
      "source": [
        "# defining and calling function\n",
        "def greet(name):\n",
        "  return \"hello,\"+ name\n",
        "#calling a function\n",
        "print(greet(\"alice\"))\n",
        "print(greet(\"bob\"))\n"
      ],
      "metadata": {
        "colab": {
          "base_uri": "https://localhost:8080/"
        },
        "id": "nW-uHNvv7sES",
        "outputId": "29d36d5b-a4e8-4003-80cb-1b8455f3b727"
      },
      "execution_count": null,
      "outputs": [
        {
          "output_type": "stream",
          "name": "stdout",
          "text": [
            "hello,alice\n",
            "hello,bob\n"
          ]
        }
      ]
    },
    {
      "cell_type": "markdown",
      "source": [
        "8. **simple user input**\n",
        "getting input from user"
      ],
      "metadata": {
        "id": "zscKJ4ru9MLh"
      }
    },
    {
      "cell_type": "code",
      "source": [
        "# getting input from the user\n",
        "name = input(\"enter your name:\")\n",
        "print(\"hello,\" + name + \"!\")\n",
        "#print(\"hello\", name)"
      ],
      "metadata": {
        "colab": {
          "base_uri": "https://localhost:8080/"
        },
        "id": "ifge3u-E9GZQ",
        "outputId": "7cf33275-7097-429f-bbac-6ff180032f80"
      },
      "execution_count": null,
      "outputs": [
        {
          "output_type": "stream",
          "name": "stdout",
          "text": [
            "enter your name:zeus\n",
            "hello,zeus!\n"
          ]
        }
      ]
    },
    {
      "cell_type": "code",
      "source": [],
      "metadata": {
        "id": "-EGT2R-w-gyw"
      },
      "execution_count": null,
      "outputs": []
    },
    {
      "cell_type": "markdown",
      "source": [
        "9. **reading and writing files**\n",
        "basic operation\n"
      ],
      "metadata": {
        "id": "RMYu1H0J-ny5"
      }
    },
    {
      "cell_type": "code",
      "source": [
        "# writing to a file\n",
        "with open(\"example.txt\",\"w\") as file:\n",
        "  file.write(\"hello, world!\\n\")\n",
        "  file.write(\"this is a simple file.\")\n",
        "# reading from the file\n",
        "with open(\"example.txt\", \"r\") as file:\n",
        "  content = file.read()\n",
        "  print(\"file content:\\n\", content)\n"
      ],
      "metadata": {
        "colab": {
          "base_uri": "https://localhost:8080/"
        },
        "id": "hXTDXMZm_YZ_",
        "outputId": "7f3a453d-79a7-40f8-b3df-e9a80480063e"
      },
      "execution_count": null,
      "outputs": [
        {
          "output_type": "stream",
          "name": "stdout",
          "text": [
            "file content:\n",
            " hello, world!\n",
            "this is a simple file.\n"
          ]
        }
      ]
    },
    {
      "cell_type": "markdown",
      "source": [
        "10.**basic exception handling** handling errors using try and except."
      ],
      "metadata": {
        "id": "UKdUgt4SBU6I"
      }
    },
    {
      "cell_type": "code",
      "source": [
        "try:\n",
        "    # trying to dividible by zer\n",
        "    result = 10 / 0\n",
        "except ZeroDivisionError:\n",
        "  print(\"error: division by zero is not allowed.\")\n",
        "finally:\n",
        "  print(\"yhis will alwayse execute\")"
      ],
      "metadata": {
        "colab": {
          "base_uri": "https://localhost:8080/"
        },
        "id": "6cDuHTu_AGH_",
        "outputId": "88757bfa-93d0-4b63-9571-6aca417962e9"
      },
      "execution_count": null,
      "outputs": [
        {
          "output_type": "stream",
          "name": "stdout",
          "text": [
            "error: division by zero is not allowed.\n",
            "yhis will alwayse execute\n"
          ]
        }
      ]
    },
    {
      "cell_type": "code",
      "source": [],
      "metadata": {
        "id": "Y0K6tpM_Cw6O"
      },
      "execution_count": null,
      "outputs": []
    }
  ]
}