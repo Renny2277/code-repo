{
 "cells": [
  {
   "cell_type": "code",
   "execution_count": null,
   "metadata": {},
   "outputs": [],
   "source": [
    "# This notebook solves a quadratic equation of the form ax^2 + bx + c = 0\n",
    "import cmath\n",
    "\n",
    "# Coefficients\n",
    "a = 1\n",
    "b = 5\n",
    "c = 6\n",
    "\n",
    "# Calculate the discriminant\n",
    "d = (b**2) - (4*a*c)\n",
    "\n",
    "# Find two solutions\n",
    "sol1 = (-b-cmath.sqrt(d))/(2*a)\n",
    "sol2 = (-b+cmath.sqrt(d))/(2*a)\n",
    "\n",
    "print(f'The solutions for the equation {a}x^2 + {b}x + {c} = 0 are {sol1} and {sol2}')"
   ]
  }
 ],
 "metadata": {
  "kernelspec": {
   "display_name": "Python 3",
   "language": "python",
   "name": "python3"
  },
  "language_info": {
   "codemirror_mode": {
    "name": "ipython",
    "version": 3
   },
   "file_extension": ".py",
   "mimetype": "text/x-python",
   "name": "python",
   "nbconvert_exporter": "python",
   "pygments_lexer": "ipython3",
   "version": "3.9.1"
  }
 },
 "nbformat": 4,
 "nbformat_minor": 4
}
